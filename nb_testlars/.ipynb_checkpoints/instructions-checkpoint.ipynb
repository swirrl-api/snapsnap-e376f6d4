{
 "cells": [
  {
   "cell_type": "markdown",
   "id": "78e91228-3b20-4c6a-9746-d0d966c6a379",
   "metadata": {},
   "source": [
    "## Instructions for displaying netcdf in adaguc server"
   ]
  },
  {
   "cell_type": "markdown",
   "id": "524db518-5064-4bce-ada7-942c0233bbed",
   "metadata": {},
   "source": [
    "Adaguc server: autowms --> work --> private"
   ]
  }
 ],
 "metadata": {
  "kernelspec": {
   "display_name": "Python 3 (ipykernel)",
   "language": "python",
   "name": "python3"
  },
  "language_info": {
   "codemirror_mode": {
    "name": "ipython",
    "version": 3
   },
   "file_extension": ".py",
   "mimetype": "text/x-python",
   "name": "python",
   "nbconvert_exporter": "python",
   "pygments_lexer": "ipython3",
   "version": "3.10.11"
  }
 },
 "nbformat": 4,
 "nbformat_minor": 5
}
